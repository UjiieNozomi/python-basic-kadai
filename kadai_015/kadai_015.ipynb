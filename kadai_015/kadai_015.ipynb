{
  "nbformat": 4,
  "nbformat_minor": 0,
  "metadata": {
    "colab": {
      "provenance": []
    },
    "kernelspec": {
      "name": "python3",
      "display_name": "Python 3"
    },
    "language_info": {
      "name": "python"
    }
  },
  "cells": [
    {
      "cell_type": "code",
      "execution_count": 17,
      "metadata": {
        "colab": {
          "base_uri": "https://localhost:8080/"
        },
        "id": "F1OfbkUyEDRH",
        "outputId": "13310e77-b850-4236-c2f8-887ba5664974"
      },
      "outputs": [
        {
          "output_type": "stream",
          "name": "stdout",
          "text": [
            "侍太郎 23\n"
          ]
        }
      ],
      "source": [
        "class Human:\n",
        "\n",
        "  # コンストラクタ\n",
        "  def __init__(self, name, age):\n",
        "    self.name = name\n",
        "    self.age = age\n",
        "\n",
        "  # メソッド\n",
        "  def printinfo(self):\n",
        "    print(self.name, self.age)\n",
        "\n",
        "# インスタンス化\n",
        "person = Human(\"侍太郎\", \"23\")\n",
        "\n",
        "person.printinfo()\n",
        "\n",
        "\n"
      ]
    }
  ]
}