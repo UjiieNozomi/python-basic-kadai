{
  "nbformat": 4,
  "nbformat_minor": 0,
  "metadata": {
    "colab": {
      "provenance": []
    },
    "kernelspec": {
      "name": "python3",
      "display_name": "Python 3"
    },
    "language_info": {
      "name": "python"
    }
  },
  "cells": [
    {
      "cell_type": "code",
      "execution_count": 15,
      "metadata": {
        "colab": {
          "base_uri": "https://localhost:8080/"
        },
        "id": "YthRVgmQyP2T",
        "outputId": "4219dc39-d32a-4008-b42c-60ca0f1bca0a"
      },
      "outputs": [
        {
          "output_type": "execute_result",
          "data": {
            "text/plain": [
              "(10.0, 110.0)"
            ]
          },
          "metadata": {},
          "execution_count": 15
        }
      ],
      "source": [
        "# 関数\n",
        "def calculate_tax(price, tax):\n",
        "\n",
        "  sales_tax = price * 0.1\n",
        "  total = price + sales_tax\n",
        "\n",
        "  return sales_tax, total\n",
        "\n",
        "\n",
        "calculate_tax(100,10)\n",
        "\n",
        "\n"
      ]
    }
  ]
}