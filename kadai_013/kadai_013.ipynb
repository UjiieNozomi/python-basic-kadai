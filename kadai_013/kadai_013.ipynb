{
  "nbformat": 4,
  "nbformat_minor": 0,
  "metadata": {
    "colab": {
      "provenance": []
    },
    "kernelspec": {
      "name": "python3",
      "display_name": "Python 3"
    },
    "language_info": {
      "name": "python"
    }
  },
  "cells": [
    {
      "cell_type": "code",
      "execution_count": 17,
      "metadata": {
        "colab": {
          "base_uri": "https://localhost:8080/"
        },
        "id": "YthRVgmQyP2T",
        "outputId": "06498e48-ba3a-4a00-ee95-dd325fd0e178"
      },
      "outputs": [
        {
          "output_type": "execute_result",
          "data": {
            "text/plain": [
              "(10.0, 110.0)"
            ]
          },
          "metadata": {},
          "execution_count": 17
        }
      ],
      "source": [
        "# 関数\n",
        "def calculate_tax(price, tax):\n",
        "\n",
        "  sales_tax = price * (tax * 0.01)\n",
        "  total = price + sales_tax\n",
        "\n",
        "  return sales_tax, total\n",
        "\n",
        "calculate_tax(100,10)\n",
        "\n",
        "\n"
      ]
    }
  ]
}