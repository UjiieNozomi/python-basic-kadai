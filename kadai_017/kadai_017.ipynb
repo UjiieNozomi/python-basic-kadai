{
  "nbformat": 4,
  "nbformat_minor": 0,
  "metadata": {
    "colab": {
      "provenance": []
    },
    "kernelspec": {
      "name": "python3",
      "display_name": "Python 3"
    },
    "language_info": {
      "name": "python"
    }
  },
  "cells": [
    {
      "cell_type": "code",
      "execution_count": 33,
      "metadata": {
        "colab": {
          "base_uri": "https://localhost:8080/"
        },
        "id": "8TzhxiPjZCrE",
        "outputId": "3c394f00-6baa-4ca4-ad79-85290d18ab28"
      },
      "outputs": [
        {
          "output_type": "stream",
          "name": "stdout",
          "text": [
            "侍太郎さんは大人です。\n",
            "侍二郎さんは大人です。\n",
            "侍三郎さんは子供です。\n"
          ]
        }
      ],
      "source": [
        "# クラス作成\n",
        "class Human:\n",
        "  def __init__(self, name, age):\n",
        "    self.name = name\n",
        "    self.age = age\n",
        "\n",
        "    # check_adult関数\n",
        "  def check_adult(self):\n",
        "    if self.age >= 20:\n",
        "      print(f\"{self.name}さんは大人です。\")\n",
        "    else:\n",
        "      print(f\"{self.name}さんは子供です。\")\n",
        "\n",
        "# インスタンス作成\n",
        "taro = Human(\"侍太郎\", 23)\n",
        "jiro = Human(\"侍二郎\", 20)\n",
        "saburo = Human(\"侍三郎\", 17)\n",
        "\n",
        "# リスト作成\n",
        "humans = [taro, jiro, saburo]\n",
        "\n",
        "# 呼び出し\n",
        "for human in humans:\n",
        "  human.check_adult()\n"
      ]
    }
  ]
}